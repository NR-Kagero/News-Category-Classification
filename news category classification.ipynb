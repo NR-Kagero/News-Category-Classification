{
 "cells": [
  {
   "cell_type": "code",
   "id": "initial_id",
   "metadata": {
    "collapsed": true,
    "ExecuteTime": {
     "end_time": "2025-09-16T23:21:47.516082Z",
     "start_time": "2025-09-16T23:21:47.498606Z"
    }
   },
   "source": [
    "import pandas as pd\n",
    "import numpy as np\n",
    "from nltk.corpus import stopwords\n",
    "from nltk.tokenize import RegexpTokenizer\n",
    "from sentence_transformers import SentenceTransformer\n",
    "from sklearn.model_selection import train_test_split\n",
    "from sklearn.linear_model import LogisticRegression\n",
    "from sklearn.metrics import classification_report\n",
    "import torch\n",
    "from torch.nn.modules import Sequential\n",
    "import torch.nn as nn\n",
    "import torch.optim as optim\n",
    "from torch.utils.data import Dataset, DataLoader\n",
    "from torchsummary import summary\n",
    "from tqdm import tqdm\n",
    "from wordcloud import WordCloud\n",
    "import matplotlib.pyplot as plt"
   ],
   "execution_count": 55,
   "outputs": []
  },
  {
   "metadata": {
    "ExecuteTime": {
     "end_time": "2025-09-16T23:21:48.918867Z",
     "start_time": "2025-09-16T23:21:48.235463Z"
    }
   },
   "cell_type": "code",
   "source": "labels={0:\"World\",1:\"Sports\",2:\"Business\",3:\"Sci/Tech\"}",
   "id": "e26fdad034531bca",
   "execution_count": 56,
   "outputs": []
  },
  {
   "metadata": {
    "ExecuteTime": {
     "end_time": "2025-09-16T23:21:50.680674Z",
     "start_time": "2025-09-16T23:21:48.918867Z"
    }
   },
   "cell_type": "code",
   "source": [
    "def generate_word_cloud(df, label):\n",
    "    \n",
    "    text = \" \".join(review for review in df[df.label == label]['text'])\n",
    "    stop_words = set(stopwords.words('english'))\n",
    "  \n",
    "    wordcloud = WordCloud(\n",
    "        stopwords=stop_words,\n",
    "        background_color=\"white\",\n",
    "        width=800,\n",
    "        height=400,\n",
    "        colormap='viridis'\n",
    "    ).generate(text)\n",
    "    plt.figure(figsize=(10, 5))\n",
    "    plt.imshow(wordcloud, interpolation='bilinear')\n",
    "    plt.axis(\"off\")\n",
    "    plt.title(f'Word Cloud for \"{labels[label].title()}\"', fontsize=16)\n",
    "    plt.show()\n"
   ],
   "id": "a9fc4cd0f4e28055",
   "execution_count": 57,
   "outputs": []
  },
  {
   "metadata": {
    "ExecuteTime": {
     "end_time": "2025-09-16T23:21:52.485033Z",
     "start_time": "2025-09-16T23:21:50.682088Z"
    }
   },
   "cell_type": "code",
   "source": [
    "def one_hot_encode(x):\n",
    "    labels = np.array(x)\n",
    "    onehot = np.zeros((len(labels), len(set(labels))))\n",
    "    onehot[np.arange(len(labels)), labels] = 1\n",
    "    return onehot"
   ],
   "id": "a87a8c62cecbfb3d",
   "execution_count": 58,
   "outputs": []
  },
  {
   "metadata": {
    "ExecuteTime": {
     "end_time": "2025-09-16T23:21:53.609155Z",
     "start_time": "2025-09-16T23:21:52.485033Z"
    }
   },
   "cell_type": "code",
   "source": [
    "def embed_with_sentence_transformers(sentences, model_name='all-MiniLM-L6-v2'):\n",
    "    print(f\"\\n--- Generating embeddings with 'sentence-transformers' library ({model_name}) ---\")\n",
    "    model = SentenceTransformer(model_name)\n",
    "    sentence_embeddings = model.encode(sentences, convert_to_tensor=True)\n",
    "    print(\"Embedding generation complete.\")\n",
    "    return sentence_embeddings.cpu()"
   ],
   "id": "82d97fe5049ea3fb",
   "execution_count": 59,
   "outputs": []
  },
  {
   "metadata": {
    "ExecuteTime": {
     "end_time": "2025-09-16T23:21:54.421801Z",
     "start_time": "2025-09-16T23:21:53.609155Z"
    }
   },
   "cell_type": "code",
   "source": [
    "def remove_stopwords(sentence):\n",
    "    tokenizer = RegexpTokenizer(r'\\w+')  # Matches one or more alphanumeric characters or underscores\n",
    "    tokens = tokenizer.tokenize(sentence)\n",
    "    english_stopwords = set(stopwords.words('english'))\n",
    "    filtered_tokens = [word for word in tokens if word not in english_stopwords]\n",
    "    cleaned_text = ' '.join(filtered_tokens)\n",
    "    return cleaned_text"
   ],
   "id": "523d25c914cd50d4",
   "execution_count": 60,
   "outputs": []
  },
  {
   "metadata": {
    "ExecuteTime": {
     "end_time": "2025-09-16T23:21:55.465579Z",
     "start_time": "2025-09-16T23:21:54.425993Z"
    }
   },
   "cell_type": "code",
   "source": [
    "def preprocessing(data):\n",
    "    sentences = list(data['text'])\n",
    "    print(\"Lowering sentences...\")\n",
    "    lowered_sentences = list(map(lambda X: X.lower(), sentences))\n",
    "    print(\"Cleaning sentences...\")\n",
    "    cleaned_sentences = list(map(remove_stopwords, lowered_sentences))\n",
    "    print(\"Tokenizing sentences...\")\n",
    "    embeddings = embed_with_sentence_transformers(cleaned_sentences)\n",
    "    print(\"Embedding generation complete.\")\n",
    "    return np.array(embeddings)"
   ],
   "id": "a46557ee7f877e2e",
   "execution_count": 61,
   "outputs": []
  },
  {
   "metadata": {
    "ExecuteTime": {
     "end_time": "2025-09-16T23:21:57.567408Z",
     "start_time": "2025-09-16T23:21:55.465579Z"
    }
   },
   "cell_type": "code",
   "source": [
    "data = pd.read_csv(\"C:\\\\Users\\\\Kagero\\\\PycharmProjects\\\\elevvo\\\\AG News\\\\train.csv\")\n",
    "data.info()\n",
    "print(set(data['label']))"
   ],
   "id": "8360a5c97728faf9",
   "execution_count": 62,
   "outputs": []
  },
  {
   "metadata": {
    "ExecuteTime": {
     "end_time": "2025-09-16T23:21:58.749575Z",
     "start_time": "2025-09-16T23:21:57.567408Z"
    }
   },
   "cell_type": "code",
   "source": "data.head()",
   "id": "80991f56ccde0087",
   "execution_count": 63,
   "outputs": []
  },
  {
   "metadata": {
    "ExecuteTime": {
     "end_time": "2025-09-16T23:22:00.981780Z",
     "start_time": "2025-09-16T23:21:58.751588Z"
    }
   },
   "cell_type": "code",
   "source": [
    "test_data = pd.read_csv(\"C:\\\\Users\\\\Kagero\\\\PycharmProjects\\\\elevvo\\\\AG News\\\\test.csv\")\n",
    "test_data.info()"
   ],
   "id": "670f789a9a8776d5",
   "execution_count": 64,
   "outputs": []
  },
  {
   "metadata": {
    "ExecuteTime": {
     "end_time": "2025-09-16T23:22:03.083668Z",
     "start_time": "2025-09-16T23:22:00.986672Z"
    }
   },
   "cell_type": "code",
   "source": "test_data.head()",
   "id": "57228b5bc24d3c70",
   "execution_count": 65,
   "outputs": []
  },
  {
   "metadata": {
    "ExecuteTime": {
     "end_time": "2025-09-16T23:22:04.270825Z",
     "start_time": "2025-09-16T23:22:03.089456Z"
    }
   },
   "cell_type": "code",
   "source": "Y = np.array(data['label'])",
   "id": "bd0aa09bb21da0cc",
   "execution_count": 66,
   "outputs": []
  },
  {
   "metadata": {
    "ExecuteTime": {
     "end_time": "2025-09-16T23:22:05.879748Z",
     "start_time": "2025-09-16T23:22:04.270825Z"
    }
   },
   "cell_type": "code",
   "source": "X = np.load(\"X.npy\")",
   "id": "9f9cf90d0c128418",
   "execution_count": 67,
   "outputs": []
  },
  {
   "metadata": {
    "ExecuteTime": {
     "end_time": "2025-09-16T23:22:06.617124Z",
     "start_time": "2025-09-16T23:22:05.886508Z"
    }
   },
   "cell_type": "code",
   "source": [
    "#X= preprocessing(data)\n",
    "#np.save(\"X\",X)"
   ],
   "id": "6c8107e913fd546c",
   "execution_count": 68,
   "outputs": []
  },
  {
   "metadata": {
    "ExecuteTime": {
     "end_time": "2025-09-16T23:22:09.314898Z",
     "start_time": "2025-09-16T23:22:06.617124Z"
    }
   },
   "cell_type": "code",
   "source": [
    "print(X.shape)\n",
    "print(Y.shape)"
   ],
   "id": "621ff0e4afffecd0",
   "execution_count": 69,
   "outputs": []
  },
  {
   "metadata": {
    "ExecuteTime": {
     "end_time": "2025-09-16T23:22:11.264473Z",
     "start_time": "2025-09-16T23:22:09.314898Z"
    }
   },
   "cell_type": "code",
   "source": "x_train, x_val, y_train, y_val = train_test_split(X, Y, test_size=0.3, random_state=42)",
   "id": "80270efa653a6fbe",
   "execution_count": 70,
   "outputs": []
  },
  {
   "metadata": {
    "ExecuteTime": {
     "end_time": "2025-09-16T23:22:19.755397Z",
     "start_time": "2025-09-16T23:22:11.264473Z"
    }
   },
   "cell_type": "code",
   "source": [
    "print(x_train.shape)\n",
    "print(y_train.shape)\n",
    "print(x_val.shape)\n",
    "print(y_val.shape)"
   ],
   "id": "7ab8cc7775babad7",
   "execution_count": 71,
   "outputs": []
  },
  {
   "metadata": {
    "ExecuteTime": {
     "end_time": "2025-09-16T23:23:31.976824Z",
     "start_time": "2025-09-16T23:22:19.755397Z"
    }
   },
   "cell_type": "code",
   "source": "x_test = preprocessing(test_data)",
   "id": "3912b45472ec508f",
   "execution_count": 72,
   "outputs": []
  },
  {
   "metadata": {
    "ExecuteTime": {
     "end_time": "2025-09-16T23:23:31.992874Z",
     "start_time": "2025-09-16T23:23:31.978832Z"
    }
   },
   "cell_type": "code",
   "source": "y_test = test_data['label']",
   "id": "cbc7c4005e13e844",
   "execution_count": 73,
   "outputs": []
  },
  {
   "metadata": {
    "ExecuteTime": {
     "end_time": "2025-09-16T23:23:32.591968Z",
     "start_time": "2025-09-16T23:23:31.995262Z"
    }
   },
   "cell_type": "code",
   "source": [
    "print(x_test.shape)\n",
    "print(y_test.shape)"
   ],
   "id": "78a6c5069c7b1b41",
   "execution_count": 74,
   "outputs": []
  },
  {
   "metadata": {
    "ExecuteTime": {
     "end_time": "2025-09-16T23:23:36.682082Z",
     "start_time": "2025-09-16T23:23:32.591968Z"
    }
   },
   "cell_type": "code",
   "source": [
    "log_reg = LogisticRegression(max_iter=500, solver='newton-cg', random_state=42, penalty=\"l2\")\n",
    "log_reg.fit(x_train, y_train)"
   ],
   "id": "1db210afc3de2190",
   "execution_count": 75,
   "outputs": []
  },
  {
   "metadata": {
    "ExecuteTime": {
     "end_time": "2025-09-16T23:23:37.139091Z",
     "start_time": "2025-09-16T23:23:36.682082Z"
    }
   },
   "cell_type": "code",
   "source": "print(classification_report(log_reg.predict(x_val), y_val))",
   "id": "8ae5a69754ec38b6",
   "execution_count": 76,
   "outputs": []
  },
  {
   "metadata": {
    "ExecuteTime": {
     "end_time": "2025-09-16T23:23:38.287468Z",
     "start_time": "2025-09-16T23:23:37.139091Z"
    }
   },
   "cell_type": "code",
   "source": "print(classification_report(log_reg.predict(x_test), y_test))",
   "id": "3c5860ba43aed64c",
   "execution_count": 77,
   "outputs": []
  },
  {
   "metadata": {
    "ExecuteTime": {
     "end_time": "2025-09-16T23:23:39.132025Z",
     "start_time": "2025-09-16T23:23:38.288208Z"
    }
   },
   "cell_type": "code",
   "source": [
    "class CustomDataset(Dataset):\n",
    "    def __init__(self, x, y):\n",
    "        self.x = torch.tensor(x,dtype=torch.float)\n",
    "        self.y = torch.tensor(y,dtype=torch.float)\n",
    "\n",
    "    def __len__(self):\n",
    "        return len(self.y)\n",
    "\n",
    "    def __getitem__(self, idx):\n",
    "        return self.x[idx], self.y[idx]"
   ],
   "id": "529a3a2254827183",
   "execution_count": 78,
   "outputs": []
  },
  {
   "metadata": {
    "ExecuteTime": {
     "end_time": "2025-09-16T23:23:39.721345Z",
     "start_time": "2025-09-16T23:23:39.135258Z"
    }
   },
   "cell_type": "code",
   "source": [
    "model = Sequential(\n",
    "    torch.nn.Linear(384, 256),\n",
    "    torch.nn.ReLU(),\n",
    "    torch.nn.Linear(256, 128),\n",
    "    torch.nn.ReLU(),\n",
    "    torch.nn.Linear(128, 64),\n",
    "    torch.nn.ReLU(),\n",
    "    torch.nn.Linear(64, 32),\n",
    "    torch.nn.ReLU(),\n",
    "    torch.nn.Linear(32, 4),\n",
    "    torch.nn.Softmax(dim=1)\n",
    ")"
   ],
   "id": "a6bc87ac726cb236",
   "execution_count": 79,
   "outputs": []
  },
  {
   "metadata": {
    "ExecuteTime": {
     "end_time": "2025-09-16T23:23:40.147580Z",
     "start_time": "2025-09-16T23:23:39.723231Z"
    }
   },
   "cell_type": "code",
   "source": "y_train=one_hot_encode(y_train)",
   "id": "1cd7d294351f9f81",
   "execution_count": 80,
   "outputs": []
  },
  {
   "metadata": {
    "ExecuteTime": {
     "end_time": "2025-09-16T23:23:40.945738Z",
     "start_time": "2025-09-16T23:23:40.151372Z"
    }
   },
   "cell_type": "code",
   "source": "data_loader = DataLoader(CustomDataset(x_train, y_train), batch_size=256, shuffle=True)",
   "id": "59d9aa040a9059d0",
   "execution_count": 81,
   "outputs": []
  },
  {
   "metadata": {
    "ExecuteTime": {
     "end_time": "2025-09-16T23:23:41.120462Z",
     "start_time": "2025-09-16T23:23:40.949792Z"
    }
   },
   "cell_type": "code",
   "source": "device = \"cuda\" if torch.cuda.is_available() else \"cpu\"",
   "id": "7f5ec7fa9ec884f5",
   "execution_count": 82,
   "outputs": []
  },
  {
   "metadata": {
    "ExecuteTime": {
     "end_time": "2025-09-16T23:23:41.391050Z",
     "start_time": "2025-09-16T23:23:41.127149Z"
    }
   },
   "cell_type": "code",
   "source": [
    "optimizer = optim.Adam(model.parameters(), lr=0.001, weight_decay=1e-5)\n",
    "criterion = nn.MSELoss()\n",
    "epochs=20"
   ],
   "id": "71bcf00b9cc90aa6",
   "execution_count": 83,
   "outputs": []
  },
  {
   "metadata": {
    "ExecuteTime": {
     "end_time": "2025-09-16T23:23:41.678998Z",
     "start_time": "2025-09-16T23:23:41.391050Z"
    }
   },
   "cell_type": "code",
   "source": "model.to(device)",
   "id": "30e8835efb38f269",
   "execution_count": 84,
   "outputs": []
  },
  {
   "metadata": {
    "ExecuteTime": {
     "end_time": "2025-09-16T23:23:41.981310Z",
     "start_time": "2025-09-16T23:23:41.678998Z"
    }
   },
   "cell_type": "code",
   "source": "summary(model, (64, 384))",
   "id": "454481c7541f4e8b",
   "execution_count": 85,
   "outputs": []
  },
  {
   "metadata": {
    "ExecuteTime": {
     "end_time": "2025-09-16T23:25:02.324753Z",
     "start_time": "2025-09-16T23:23:41.981310Z"
    }
   },
   "cell_type": "code",
   "source": [
    "for epoch in range(epochs):\n",
    "    progress_bar = tqdm(\n",
    "                    data_loader,\n",
    "                    desc=f'Epoch {epoch + 1}/{epochs}',\n",
    "                    leave=False,\n",
    "                    ncols=100\n",
    "                )\n",
    "    \n",
    "    for x,y in progress_bar:\n",
    "        x=x.to(device)\n",
    "        y=y.to(device)\n",
    "        output = model(x)\n",
    "        loss = criterion(output, y)\n",
    "        optimizer.zero_grad()\n",
    "        loss.backward()\n",
    "        optimizer.step()\n",
    "        progress_bar.set_postfix({'Loss': f'{loss.item():.4f}'})\n",
    "        "
   ],
   "id": "e2c71df4f872cf5c",
   "execution_count": 86,
   "outputs": []
  },
  {
   "metadata": {
    "ExecuteTime": {
     "end_time": "2025-09-16T23:25:02.340818Z",
     "start_time": "2025-09-16T23:25:02.327624Z"
    }
   },
   "cell_type": "code",
   "source": "model.eval()",
   "id": "67ac71da582af1d",
   "execution_count": 87,
   "outputs": []
  },
  {
   "metadata": {
    "ExecuteTime": {
     "end_time": "2025-09-16T23:25:02.866952Z",
     "start_time": "2025-09-16T23:25:02.340818Z"
    }
   },
   "cell_type": "code",
   "source": [
    "val_predictions=model(torch.tensor(x_val, dtype=torch.float).to(device))\n",
    "print(classification_report(np.argmax(np.array(val_predictions.cpu().detach().numpy()), axis=1),y_val ))"
   ],
   "id": "cc513277e076441",
   "execution_count": 88,
   "outputs": []
  },
  {
   "metadata": {
    "ExecuteTime": {
     "end_time": "2025-09-16T23:25:02.945914Z",
     "start_time": "2025-09-16T23:25:02.866952Z"
    }
   },
   "cell_type": "code",
   "source": [
    "test_predictions=model(torch.tensor(x_test,dtype=torch.float).to(device))\n",
    "print(classification_report(np.argmax(np.array(test_predictions.cpu().detach().numpy()), axis=1), y_test))"
   ],
   "id": "1348e95cb069a23b",
   "execution_count": 89,
   "outputs": []
  },
  {
   "metadata": {
    "ExecuteTime": {
     "end_time": "2025-09-16T23:25:27.923668Z",
     "start_time": "2025-09-16T23:25:02.948580Z"
    }
   },
   "cell_type": "code",
   "source": [
    "for i in set(data['label']):\n",
    "    generate_word_cloud(data, i)"
   ],
   "id": "368b61683c68f4a1",
   "execution_count": 90,
   "outputs": []
  }
 ],
 "metadata": {
  "kernelspec": {
   "display_name": "Python 3",
   "language": "python",
   "name": "python3"
  },
  "language_info": {
   "codemirror_mode": {
    "name": "ipython",
    "version": 2
   },
   "file_extension": ".py",
   "mimetype": "text/x-python",
   "name": "python",
   "nbconvert_exporter": "python",
   "pygments_lexer": "ipython2",
   "version": "2.7.6"
  }
 },
 "nbformat": 4,
 "nbformat_minor": 5
}
